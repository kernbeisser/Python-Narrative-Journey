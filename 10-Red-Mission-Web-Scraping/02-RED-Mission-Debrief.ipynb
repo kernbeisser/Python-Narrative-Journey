{
 "cells": [
  {
   "cell_type": "markdown",
   "source": [
    "# RED Mission Debrief\n",
    "\n",
    "Excellent work Agent! You've already made significant progress in tracking down the rogues.\n",
    "\n",
    "Let's have a quick debriefing of your mission so that Director Hopper is up to speed.\n",
    "\n",
    "## Web Scraping the Blog Post\n",
    "\n",
    "Looks like you discovered that we needed to scrape the blog post of the The Gold Bugs band page to extract an link. Let's see what the process was.\n",
    "\n",
    "### Get the Content"
   ],
   "metadata": {
    "collapsed": true
   }
  },
  {
   "cell_type": "code",
   "execution_count": 1,
   "source": [
    "import bs4\n",
    "import requests"
   ],
   "outputs": [],
   "metadata": {
    "collapsed": true
   }
  },
  {
   "cell_type": "code",
   "execution_count": 2,
   "source": [
    "res = requests.get('https://www.thegoldbugs.com/blog')"
   ],
   "outputs": [],
   "metadata": {
    "collapsed": false
   }
  },
  {
   "cell_type": "code",
   "execution_count": 3,
   "source": [
    "soup = bs4.BeautifulSoup(res.text,\"lxml\")"
   ],
   "outputs": [],
   "metadata": {
    "collapsed": true
   }
  },
  {
   "cell_type": "markdown",
   "source": [
    "Looking at the page, we can see we are looking for a pre tag inside of a sqs-block-content class. Alternatively, we could have also just grabbed .sqs-block-content and used indexing."
   ],
   "metadata": {}
  },
  {
   "cell_type": "code",
   "execution_count": 4,
   "source": [
    "blog = soup.select('.sqs-block-content > pre ')"
   ],
   "outputs": [],
   "metadata": {
    "collapsed": false
   }
  },
  {
   "cell_type": "code",
   "execution_count": 5,
   "source": [
    "blog"
   ],
   "outputs": [
    {
     "output_type": "execute_result",
     "data": {
      "text/plain": [
       "[<pre>-----hdipiscing rhoncus massaphasellus magnis delenit no, ligula tempor massapellentesque tortorcurabitur enim ex leopraesent.-----tectus urnamorbi telluspraesent nisl, maecenas aptent conubia.-----tondonec aliquam duo fames nullam minim accumsannulla, massaphasellus quisaenean sempermorbi conubia lectus.-----piaminteger, elit facilisis vestibulumnulla aliquet egestasmauris quisaenean.-----sabore a ut iaculis, montes tempor dapibusnam est mi nisised.-----:um doming aliquammauris congue class sadipscing, risus nisi quammaecenas felissed.-----/ation vestibulum accusam nequeetiam feugiat, rutrum aliquammauris ultricies varius dis.-----/urpis nisl duis interdumdonec himenaeos, elitr tincidunt semper molestie bibendumin veniam.-----dnterdumdonec malesuada cubilia.-----rinulla libero congue.-----iictum luptatum eum, duis eos esse consequatduis tellus enim nullasuspendisse.-----veugait hac ut potenti euismod.-----eiam fermentumfusce aliquammauris leopraesent erat, purusvestibulum aliquip ac quam inceptos delenit morbi lorem vero egestasmauris.-----.apibusnam facilisisproin donec laoreetphasellus quammaecenas.-----giaminteger platea nullamauris.-----oempermorbi enimsed soluta arcumorbi.-----oraesent quisaenean tortor varius dictumst cras, aaenean ullamcorper nullam lobortis fermentum possim minulla congue ipsum.-----gonsequatduis possim massa cras te, facilisinam enim lobortisetiam.-----llitduis tempor feugiat labore wisi nonumy, consectetur pulvinar risusdonec tortor.-----eeugait liber enimaliquam.-----.ristique possim.-----canctus magnainteger elitr, ea dictumst sollicitudin pharetra malesuada ut.-----oacer eu duimauris mattis ex dictum, lobortisetiam liberoduis fames nonumy pellentesque senectus massaphasellus.-----migula esse, nostra nostrud egestasmauris feliscras habitant accusam suscipit.-----/nceptos posuere nonummy vestibulumnulla duimauris laoreetphasellus ipsumcurabitur, qui nondonec ornare sed phasellus mattis.-----onim ullamcorper lobortisetiam leo.-----pihil iriure consequat elitr nibh.-----eodales faucibus minulla.-----napibusnam bibendumin ac, facilisisproin eu aaenean purusvestibulum possim risus lacusut laoreet.-----?rcumorbi euismod tristique aptent malesuadanullam quisque, ultriciespellentesque accusam convallis mi platea duo.-----iation rutrum feugiat magnapraesent felissed.-----dit accusam, dapibus vulputate lacus montes consecteturpraesent eirmod lectus.-----=celerisque dis aliquet elitnunc.-----1ortorvestibulum autem auctor blandit aliquam sanctus.-----kestibulumnulla orci dis, purusvestibulum elementum dui laoreet.-----4ursus exerci quisaenean urna.-----uhoncusmaecenas mattis zzril nequeetiam soluta id, class clita cum faucibusvestibulum lacus molestie veniam telluspraesent mus.-----Uoluptua esse nonumy suspendisse consetetur, eos senectus zzril gravida nascetur lacus volutpat.-----9igula in sempermorbi, urnamorbi felis qui aliquip vehicula.-----lliquyam nobis esse sociosqu, eleifend felissed voluptua pulvinarvestibulum per.-----6ociosqu vehicula elitduis adipiscing et, faucibusvestibulum facilisis pharetra.-----Garius imperdietaliquam aliquet nobis justocras proin, mipellentesque litora urna sem possim.-----1ubergren class cursus ex takimata mauris, suscipit metus nisl rebum blandit labore.-----9ebum mazim.-----Qagittis a turpis laoreet erosin takimata, ac cum possim eu facilisicurabitur massa elitduis taciti.-----4ltricies consequatduis purusvestibulum primis, nondonec felis ligula dapibus blandit metusdonec.-----hagittis risus velit no nonumy, erat pellentesque sed leopraesent egestasmauris.-----Permentum sollicitudin est dolores.-----wuptatum quam.-----maucibus natoque.-----jxerci donec aliquyam purus.-----Hongue condimentum minulla.-----sempermorbi aliquip minulla, vestibulum vero ligula elitr feugait.-----Nnterdumdonec aliquammauris habitant.-----Luammaecenas risus quis auctor rebum, dapibusnam per id feliscras risusdonec eu.-----del urna dolor sociis metusdonec, condimentum elitvivamus tempus volutpat vestibulum.-----Puisque elitvivamus zzril.-----vurae mauris lacusnulla sodales, ridiculus iusto aaenean eos possim urna.-----nuis nisl justocras porta facilisisat.-----Kollicitudin pulvinarvestibulum diaminteger, aliquammauris at nostrud viverra egestas.-----sincidunt mollis placerat nunc massaphasellus mauris.-----7itae iaculis conguenulla ametduis purusvestibulum.-----Yidiculus tortorvestibulum quisaenean.-----jehicula wisi bibendumfusce, antesuspendisse minim facilisi at aliquam molestie feliscras invidunt.-----Naoreetphasellus antesuspendisse turpis, tempor ridiculus blandit vivamus ipsum pulvinar.-----oeo temporsuspendisse minulla, laoreet consectetuer ligula vestibulum vestibulumnulla.-----xpsum sanctus sociosqu, clita curae risusdonec rhoncusmaecenas facer morbi veniam.-----Jollicitudin sed facilisisat egestas mi, duis eros quam venenatis posuere takimata nibh.-----Lltrices nullamauris delenit magnainteger parturient, vestibulum rebum placerat ultricies soluta consetetur in orci aliquet.-----kx aliquammauris himenaeos sagittis.-----Tortor laoreet conubia temporsuspendisse consecteturpraesent.-----5ullasuspendisse platea urna felis nonumy risusdonec.-----Oatoque ametduis ultriciespellentesque, eratproin orci ipsum elitr.-----yaoreet lobortisetiam sapien viverra, lorem labore fringilla sempermorbi dapibus.-----4asd maurisaenean ipsum sempermorbi muspellentesque est, consecteturpraesent ultricies fringilla massa.-----uassapellentesque duo erat fringilla scelerisque luctus tortorcurabitur mauris, justocras auctormauris inceptos bibendum pharetra est eos.-----4acilisinam turpis tempus mollis, diaminteger magnainteger hendrerit.</pre>]"
      ]
     },
     "metadata": {},
     "execution_count": 5
    }
   ],
   "metadata": {
    "collapsed": false
   }
  },
  {
   "cell_type": "markdown",
   "source": [
    "Now we can grab the actual contents"
   ],
   "metadata": {}
  },
  {
   "cell_type": "code",
   "execution_count": 6,
   "source": [
    "text = blog[0]"
   ],
   "outputs": [],
   "metadata": {
    "collapsed": true
   }
  },
  {
   "cell_type": "code",
   "execution_count": 7,
   "source": [
    "text = text.contents[0]"
   ],
   "outputs": [],
   "metadata": {
    "collapsed": false
   }
  },
  {
   "cell_type": "code",
   "execution_count": 8,
   "source": [
    "text"
   ],
   "outputs": [
    {
     "output_type": "execute_result",
     "data": {
      "text/plain": [
       "'-----hdipiscing rhoncus massaphasellus magnis delenit no, ligula tempor massapellentesque tortorcurabitur enim ex leopraesent.-----tectus urnamorbi telluspraesent nisl, maecenas aptent conubia.-----tondonec aliquam duo fames nullam minim accumsannulla, massaphasellus quisaenean sempermorbi conubia lectus.-----piaminteger, elit facilisis vestibulumnulla aliquet egestasmauris quisaenean.-----sabore a ut iaculis, montes tempor dapibusnam est mi nisised.-----:um doming aliquammauris congue class sadipscing, risus nisi quammaecenas felissed.-----/ation vestibulum accusam nequeetiam feugiat, rutrum aliquammauris ultricies varius dis.-----/urpis nisl duis interdumdonec himenaeos, elitr tincidunt semper molestie bibendumin veniam.-----dnterdumdonec malesuada cubilia.-----rinulla libero congue.-----iictum luptatum eum, duis eos esse consequatduis tellus enim nullasuspendisse.-----veugait hac ut potenti euismod.-----eiam fermentumfusce aliquammauris leopraesent erat, purusvestibulum aliquip ac quam inceptos delenit morbi lorem vero egestasmauris.-----.apibusnam facilisisproin donec laoreetphasellus quammaecenas.-----giaminteger platea nullamauris.-----oempermorbi enimsed soluta arcumorbi.-----oraesent quisaenean tortor varius dictumst cras, aaenean ullamcorper nullam lobortis fermentum possim minulla congue ipsum.-----gonsequatduis possim massa cras te, facilisinam enim lobortisetiam.-----llitduis tempor feugiat labore wisi nonumy, consectetur pulvinar risusdonec tortor.-----eeugait liber enimaliquam.-----.ristique possim.-----canctus magnainteger elitr, ea dictumst sollicitudin pharetra malesuada ut.-----oacer eu duimauris mattis ex dictum, lobortisetiam liberoduis fames nonumy pellentesque senectus massaphasellus.-----migula esse, nostra nostrud egestasmauris feliscras habitant accusam suscipit.-----/nceptos posuere nonummy vestibulumnulla duimauris laoreetphasellus ipsumcurabitur, qui nondonec ornare sed phasellus mattis.-----onim ullamcorper lobortisetiam leo.-----pihil iriure consequat elitr nibh.-----eodales faucibus minulla.-----napibusnam bibendumin ac, facilisisproin eu aaenean purusvestibulum possim risus lacusut laoreet.-----?rcumorbi euismod tristique aptent malesuadanullam quisque, ultriciespellentesque accusam convallis mi platea duo.-----iation rutrum feugiat magnapraesent felissed.-----dit accusam, dapibus vulputate lacus montes consecteturpraesent eirmod lectus.-----=celerisque dis aliquet elitnunc.-----1ortorvestibulum autem auctor blandit aliquam sanctus.-----kestibulumnulla orci dis, purusvestibulum elementum dui laoreet.-----4ursus exerci quisaenean urna.-----uhoncusmaecenas mattis zzril nequeetiam soluta id, class clita cum faucibusvestibulum lacus molestie veniam telluspraesent mus.-----Uoluptua esse nonumy suspendisse consetetur, eos senectus zzril gravida nascetur lacus volutpat.-----9igula in sempermorbi, urnamorbi felis qui aliquip vehicula.-----lliquyam nobis esse sociosqu, eleifend felissed voluptua pulvinarvestibulum per.-----6ociosqu vehicula elitduis adipiscing et, faucibusvestibulum facilisis pharetra.-----Garius imperdietaliquam aliquet nobis justocras proin, mipellentesque litora urna sem possim.-----1ubergren class cursus ex takimata mauris, suscipit metus nisl rebum blandit labore.-----9ebum mazim.-----Qagittis a turpis laoreet erosin takimata, ac cum possim eu facilisicurabitur massa elitduis taciti.-----4ltricies consequatduis purusvestibulum primis, nondonec felis ligula dapibus blandit metusdonec.-----hagittis risus velit no nonumy, erat pellentesque sed leopraesent egestasmauris.-----Permentum sollicitudin est dolores.-----wuptatum quam.-----maucibus natoque.-----jxerci donec aliquyam purus.-----Hongue condimentum minulla.-----sempermorbi aliquip minulla, vestibulum vero ligula elitr feugait.-----Nnterdumdonec aliquammauris habitant.-----Luammaecenas risus quis auctor rebum, dapibusnam per id feliscras risusdonec eu.-----del urna dolor sociis metusdonec, condimentum elitvivamus tempus volutpat vestibulum.-----Puisque elitvivamus zzril.-----vurae mauris lacusnulla sodales, ridiculus iusto aaenean eos possim urna.-----nuis nisl justocras porta facilisisat.-----Kollicitudin pulvinarvestibulum diaminteger, aliquammauris at nostrud viverra egestas.-----sincidunt mollis placerat nunc massaphasellus mauris.-----7itae iaculis conguenulla ametduis purusvestibulum.-----Yidiculus tortorvestibulum quisaenean.-----jehicula wisi bibendumfusce, antesuspendisse minim facilisi at aliquam molestie feliscras invidunt.-----Naoreetphasellus antesuspendisse turpis, tempor ridiculus blandit vivamus ipsum pulvinar.-----oeo temporsuspendisse minulla, laoreet consectetuer ligula vestibulum vestibulumnulla.-----xpsum sanctus sociosqu, clita curae risusdonec rhoncusmaecenas facer morbi veniam.-----Jollicitudin sed facilisisat egestas mi, duis eros quam venenatis posuere takimata nibh.-----Lltrices nullamauris delenit magnainteger parturient, vestibulum rebum placerat ultricies soluta consetetur in orci aliquet.-----kx aliquammauris himenaeos sagittis.-----Tortor laoreet conubia temporsuspendisse consecteturpraesent.-----5ullasuspendisse platea urna felis nonumy risusdonec.-----Oatoque ametduis ultriciespellentesque, eratproin orci ipsum elitr.-----yaoreet lobortisetiam sapien viverra, lorem labore fringilla sempermorbi dapibus.-----4asd maurisaenean ipsum sempermorbi muspellentesque est, consecteturpraesent ultricies fringilla massa.-----uassapellentesque duo erat fringilla scelerisque luctus tortorcurabitur mauris, justocras auctormauris inceptos bibendum pharetra est eos.-----4acilisinam turpis tempus mollis, diaminteger magnainteger hendrerit.'"
      ]
     },
     "metadata": {},
     "execution_count": 8
    }
   ],
   "metadata": {
    "collapsed": false
   }
  },
  {
   "cell_type": "markdown",
   "source": [
    "Note the title of the blog post, we want every character immediately after -----. So we can attempt to split on this, then just grab the first character of every item in the resulting list:"
   ],
   "metadata": {}
  },
  {
   "cell_type": "code",
   "execution_count": 103,
   "source": [
    "result = ''\n",
    "for sentence in text.split('-----'):\n",
    "    result = result+sentence[0]"
   ],
   "outputs": [
    {
     "output_type": "error",
     "ename": "IndexError",
     "evalue": "string index out of range",
     "traceback": [
      "\u001b[0;31m---------------------------------------------------------------------------\u001b[0m",
      "\u001b[0;31mIndexError\u001b[0m                                Traceback (most recent call last)",
      "\u001b[0;32m<ipython-input-103-c9a2ce65c77e>\u001b[0m in \u001b[0;36m<module>\u001b[0;34m()\u001b[0m\n\u001b[1;32m      1\u001b[0m \u001b[0mresult\u001b[0m \u001b[0;34m=\u001b[0m \u001b[0;34m''\u001b[0m\u001b[0;34m\u001b[0m\u001b[0m\n\u001b[1;32m      2\u001b[0m \u001b[0;32mfor\u001b[0m \u001b[0msentence\u001b[0m \u001b[0;32min\u001b[0m \u001b[0mtext\u001b[0m\u001b[0;34m.\u001b[0m\u001b[0msplit\u001b[0m\u001b[0;34m(\u001b[0m\u001b[0;34m'-----'\u001b[0m\u001b[0;34m)\u001b[0m\u001b[0;34m:\u001b[0m\u001b[0;34m\u001b[0m\u001b[0m\n\u001b[0;32m----> 3\u001b[0;31m     \u001b[0mresult\u001b[0m \u001b[0;34m=\u001b[0m \u001b[0mresult\u001b[0m\u001b[0;34m+\u001b[0m\u001b[0msentence\u001b[0m\u001b[0;34m[\u001b[0m\u001b[0;36m0\u001b[0m\u001b[0;34m]\u001b[0m\u001b[0;34m\u001b[0m\u001b[0m\n\u001b[0m",
      "\u001b[0;31mIndexError\u001b[0m: string index out of range"
     ]
    }
   ],
   "metadata": {
    "collapsed": false
   }
  },
  {
   "cell_type": "markdown",
   "source": [
    "By itself this gives an error, because the first item is an empty string which we can't index. We can remove it:"
   ],
   "metadata": {}
  },
  {
   "cell_type": "code",
   "execution_count": 9,
   "source": [
    "text.split('-----')"
   ],
   "outputs": [
    {
     "output_type": "execute_result",
     "data": {
      "text/plain": [
       "['',\n",
       " 'hdipiscing rhoncus massaphasellus magnis delenit no, ligula tempor massapellentesque tortorcurabitur enim ex leopraesent.',\n",
       " 'tectus urnamorbi telluspraesent nisl, maecenas aptent conubia.',\n",
       " 'tondonec aliquam duo fames nullam minim accumsannulla, massaphasellus quisaenean sempermorbi conubia lectus.',\n",
       " 'piaminteger, elit facilisis vestibulumnulla aliquet egestasmauris quisaenean.',\n",
       " 'sabore a ut iaculis, montes tempor dapibusnam est mi nisised.',\n",
       " ':um doming aliquammauris congue class sadipscing, risus nisi quammaecenas felissed.',\n",
       " '/ation vestibulum accusam nequeetiam feugiat, rutrum aliquammauris ultricies varius dis.',\n",
       " '/urpis nisl duis interdumdonec himenaeos, elitr tincidunt semper molestie bibendumin veniam.',\n",
       " 'dnterdumdonec malesuada cubilia.',\n",
       " 'rinulla libero congue.',\n",
       " 'iictum luptatum eum, duis eos esse consequatduis tellus enim nullasuspendisse.',\n",
       " 'veugait hac ut potenti euismod.',\n",
       " 'eiam fermentumfusce aliquammauris leopraesent erat, purusvestibulum aliquip ac quam inceptos delenit morbi lorem vero egestasmauris.',\n",
       " '.apibusnam facilisisproin donec laoreetphasellus quammaecenas.',\n",
       " 'giaminteger platea nullamauris.',\n",
       " 'oempermorbi enimsed soluta arcumorbi.',\n",
       " 'oraesent quisaenean tortor varius dictumst cras, aaenean ullamcorper nullam lobortis fermentum possim minulla congue ipsum.',\n",
       " 'gonsequatduis possim massa cras te, facilisinam enim lobortisetiam.',\n",
       " 'llitduis tempor feugiat labore wisi nonumy, consectetur pulvinar risusdonec tortor.',\n",
       " 'eeugait liber enimaliquam.',\n",
       " '.ristique possim.',\n",
       " 'canctus magnainteger elitr, ea dictumst sollicitudin pharetra malesuada ut.',\n",
       " 'oacer eu duimauris mattis ex dictum, lobortisetiam liberoduis fames nonumy pellentesque senectus massaphasellus.',\n",
       " 'migula esse, nostra nostrud egestasmauris feliscras habitant accusam suscipit.',\n",
       " '/nceptos posuere nonummy vestibulumnulla duimauris laoreetphasellus ipsumcurabitur, qui nondonec ornare sed phasellus mattis.',\n",
       " 'onim ullamcorper lobortisetiam leo.',\n",
       " 'pihil iriure consequat elitr nibh.',\n",
       " 'eodales faucibus minulla.',\n",
       " 'napibusnam bibendumin ac, facilisisproin eu aaenean purusvestibulum possim risus lacusut laoreet.',\n",
       " '?rcumorbi euismod tristique aptent malesuadanullam quisque, ultriciespellentesque accusam convallis mi platea duo.',\n",
       " 'iation rutrum feugiat magnapraesent felissed.',\n",
       " 'dit accusam, dapibus vulputate lacus montes consecteturpraesent eirmod lectus.',\n",
       " '=celerisque dis aliquet elitnunc.',\n",
       " '1ortorvestibulum autem auctor blandit aliquam sanctus.',\n",
       " 'kestibulumnulla orci dis, purusvestibulum elementum dui laoreet.',\n",
       " '4ursus exerci quisaenean urna.',\n",
       " 'uhoncusmaecenas mattis zzril nequeetiam soluta id, class clita cum faucibusvestibulum lacus molestie veniam telluspraesent mus.',\n",
       " 'Uoluptua esse nonumy suspendisse consetetur, eos senectus zzril gravida nascetur lacus volutpat.',\n",
       " '9igula in sempermorbi, urnamorbi felis qui aliquip vehicula.',\n",
       " 'lliquyam nobis esse sociosqu, eleifend felissed voluptua pulvinarvestibulum per.',\n",
       " '6ociosqu vehicula elitduis adipiscing et, faucibusvestibulum facilisis pharetra.',\n",
       " 'Garius imperdietaliquam aliquet nobis justocras proin, mipellentesque litora urna sem possim.',\n",
       " '1ubergren class cursus ex takimata mauris, suscipit metus nisl rebum blandit labore.',\n",
       " '9ebum mazim.',\n",
       " 'Qagittis a turpis laoreet erosin takimata, ac cum possim eu facilisicurabitur massa elitduis taciti.',\n",
       " '4ltricies consequatduis purusvestibulum primis, nondonec felis ligula dapibus blandit metusdonec.',\n",
       " 'hagittis risus velit no nonumy, erat pellentesque sed leopraesent egestasmauris.',\n",
       " 'Permentum sollicitudin est dolores.',\n",
       " 'wuptatum quam.',\n",
       " 'maucibus natoque.',\n",
       " 'jxerci donec aliquyam purus.',\n",
       " 'Hongue condimentum minulla.',\n",
       " 'sempermorbi aliquip minulla, vestibulum vero ligula elitr feugait.',\n",
       " 'Nnterdumdonec aliquammauris habitant.',\n",
       " 'Luammaecenas risus quis auctor rebum, dapibusnam per id feliscras risusdonec eu.',\n",
       " 'del urna dolor sociis metusdonec, condimentum elitvivamus tempus volutpat vestibulum.',\n",
       " 'Puisque elitvivamus zzril.',\n",
       " 'vurae mauris lacusnulla sodales, ridiculus iusto aaenean eos possim urna.',\n",
       " 'nuis nisl justocras porta facilisisat.',\n",
       " 'Kollicitudin pulvinarvestibulum diaminteger, aliquammauris at nostrud viverra egestas.',\n",
       " 'sincidunt mollis placerat nunc massaphasellus mauris.',\n",
       " '7itae iaculis conguenulla ametduis purusvestibulum.',\n",
       " 'Yidiculus tortorvestibulum quisaenean.',\n",
       " 'jehicula wisi bibendumfusce, antesuspendisse minim facilisi at aliquam molestie feliscras invidunt.',\n",
       " 'Naoreetphasellus antesuspendisse turpis, tempor ridiculus blandit vivamus ipsum pulvinar.',\n",
       " 'oeo temporsuspendisse minulla, laoreet consectetuer ligula vestibulum vestibulumnulla.',\n",
       " 'xpsum sanctus sociosqu, clita curae risusdonec rhoncusmaecenas facer morbi veniam.',\n",
       " 'Jollicitudin sed facilisisat egestas mi, duis eros quam venenatis posuere takimata nibh.',\n",
       " 'Lltrices nullamauris delenit magnainteger parturient, vestibulum rebum placerat ultricies soluta consetetur in orci aliquet.',\n",
       " 'kx aliquammauris himenaeos sagittis.',\n",
       " 'Tortor laoreet conubia temporsuspendisse consecteturpraesent.',\n",
       " '5ullasuspendisse platea urna felis nonumy risusdonec.',\n",
       " 'Oatoque ametduis ultriciespellentesque, eratproin orci ipsum elitr.',\n",
       " 'yaoreet lobortisetiam sapien viverra, lorem labore fringilla sempermorbi dapibus.',\n",
       " '4asd maurisaenean ipsum sempermorbi muspellentesque est, consecteturpraesent ultricies fringilla massa.',\n",
       " 'uassapellentesque duo erat fringilla scelerisque luctus tortorcurabitur mauris, justocras auctormauris inceptos bibendum pharetra est eos.',\n",
       " '4acilisinam turpis tempus mollis, diaminteger magnainteger hendrerit.']"
      ]
     },
     "metadata": {},
     "execution_count": 9
    }
   ],
   "metadata": {
    "collapsed": false
   }
  },
  {
   "cell_type": "markdown",
   "source": [
    "Now we can perform the split again with some indexing for the for loop:"
   ],
   "metadata": {}
  },
  {
   "cell_type": "code",
   "execution_count": 10,
   "source": [
    "result = ''\n",
    "for sentence in text.split('-----')[1:]:\n",
    "    result = result+sentence[0]"
   ],
   "outputs": [],
   "metadata": {
    "collapsed": false
   }
  },
  {
   "cell_type": "markdown",
   "source": [
    "Excellent, let's look at the result:"
   ],
   "metadata": {}
  },
  {
   "cell_type": "code",
   "execution_count": 11,
   "source": [
    "result"
   ],
   "outputs": [
    {
     "output_type": "execute_result",
     "data": {
      "text/plain": [
       "'https://drive.google.com/open?id=1k4uU9l6G19Q4hPwmjHsNLdPvnKs7YjNoxJLkT5Oy4u4'"
      ]
     },
     "metadata": {},
     "execution_count": 11
    }
   ],
   "metadata": {
    "collapsed": false
   }
  },
  {
   "cell_type": "markdown",
   "source": [
    "Now we can visit that link, we're one step closer Agent, excellent work!\n",
    "\n",
    "____"
   ],
   "metadata": {}
  }
 ],
 "metadata": {
  "anaconda-cloud": {},
  "kernelspec": {
   "name": "python3",
   "display_name": "Python 3.9.6 64-bit ('.venv': pipenv)"
  },
  "language_info": {
   "codemirror_mode": {
    "name": "ipython",
    "version": 3
   },
   "file_extension": ".py",
   "mimetype": "text/x-python",
   "name": "python",
   "nbconvert_exporter": "python",
   "pygments_lexer": "ipython3",
   "version": "3.9.6"
  },
  "interpreter": {
   "hash": "7f1feb215ce8bf0034cc8cc395b44769c6359df1c7b75aa48a71bf3228427297"
  }
 },
 "nbformat": 4,
 "nbformat_minor": 2
}